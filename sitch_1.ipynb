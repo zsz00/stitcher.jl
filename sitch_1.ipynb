{
 "cells": [
  {
   "cell_type": "code",
   "execution_count": 37,
   "metadata": {},
   "outputs": [],
   "source": [
    "using Images, ImageFeatures, FileIO, ImageView, ImageDraw, Colors\n",
    "# using ImageProjectiveGeometry\n",
    "\n",
    "img1 = load(\"../test/imgs/1.jpg\");\n",
    "img2 = load(\"../test/imgs/2.jpg\");\n",
    "img1p = parent(img1);\n",
    "img2p = parent(img2);"
   ]
  },
  {
   "cell_type": "code",
   "execution_count": 45,
   "metadata": {},
   "outputs": [
    {
     "data": {
      "text/plain": [
       "get_descriptors (generic function with 1 method)"
      ]
     },
     "execution_count": 45,
     "metadata": {},
     "output_type": "execute_result"
    }
   ],
   "source": [
    "function get_descriptors(img::AbstractArray)\n",
    "    imgp = parent(img)\n",
    "    brisk_params = ImageFeatures.BRISK()\n",
    "    features = ImageFeatures.Features(Keypoints(imcorner(imgp, method=ImageFeatures.harris)))\n",
    "    desc, ret_features = ImageFeatures.create_descriptor(Gray.(imgp), features, brisk_params)\n",
    "end"
   ]
  },
  {
   "cell_type": "code",
   "execution_count": 41,
   "metadata": {},
   "outputs": [],
   "source": [
    "# descriptors\n",
    "desc_1, ret_features_1 = get_descriptors(img1p);\n",
    "desc_2, ret_features_2 = get_descriptors(img2p);"
   ]
  },
  {
   "cell_type": "code",
   "execution_count": 47,
   "metadata": {},
   "outputs": [
    {
     "data": {
      "text/plain": [
       "Array{Array{CartesianIndex{2},1},1}"
      ]
     },
     "execution_count": 47,
     "metadata": {},
     "output_type": "execute_result"
    }
   ],
   "source": [
    "# matches\n",
    "threshold = 0.1;\n",
    "matches = ImageFeatures.match_keypoints(Keypoints(ret_features_1), Keypoints(ret_features_2), desc_1, desc_2, threshold);"
   ]
  },
  {
   "cell_type": "code",
   "execution_count": 52,
   "metadata": {},
   "outputs": [
    {
     "data": {
      "text/plain": [
       "(Base.OneTo(720), Base.OneTo(1280))"
      ]
     },
     "execution_count": 52,
     "metadata": {},
     "output_type": "execute_result"
    }
   ],
   "source": [
    "typeof(matches)\n",
    "# axes(img1p)"
   ]
  },
  {
   "cell_type": "code",
   "execution_count": null,
   "metadata": {},
   "outputs": [],
   "source": []
  },
  {
   "cell_type": "code",
   "execution_count": 51,
   "metadata": {},
   "outputs": [
    {
     "ename": "MethodError",
     "evalue": "MethodError: no method matching homography2d(::Array{RGB{Normed{UInt8,8}},2}, ::Array{RGB{Normed{UInt8,8}},2})",
     "output_type": "error",
     "traceback": [
      "MethodError: no method matching homography2d(::Array{RGB{Normed{UInt8,8}},2}, ::Array{RGB{Normed{UInt8,8}},2})",
      "",
      "Stacktrace:",
      " [1] top-level scope at In[51]:1"
     ]
    }
   ],
   "source": [
    "H = ImageProjectiveGeometry.homography2d(img1p, img2p)"
   ]
  },
  {
   "cell_type": "code",
   "execution_count": 49,
   "metadata": {},
   "outputs": [
    {
     "ename": "MethodError",
     "evalue": "MethodError: no method matching homography2d(::Array{Array{CartesianIndex{2},1},1})\nClosest candidates are:\n  homography2d(!Matched::Array{T<:Real,2}) where T<:Real at C:\\Users\\m1\\.julia\\packages\\ImageProjectiveGeometry\\LXkqM\\src\\projective.jl:981\n  homography2d(!Matched::Array{T1<:Real,2}, !Matched::Array{T2<:Real,2}) where {T1<:Real, T2<:Real} at C:\\Users\\m1\\.julia\\packages\\ImageProjectiveGeometry\\LXkqM\\src\\projective.jl:937",
     "output_type": "error",
     "traceback": [
      "MethodError: no method matching homography2d(::Array{Array{CartesianIndex{2},1},1})\nClosest candidates are:\n  homography2d(!Matched::Array{T<:Real,2}) where T<:Real at C:\\Users\\m1\\.julia\\packages\\ImageProjectiveGeometry\\LXkqM\\src\\projective.jl:981\n  homography2d(!Matched::Array{T1<:Real,2}, !Matched::Array{T2<:Real,2}) where {T1<:Real, T2<:Real} at C:\\Users\\m1\\.julia\\packages\\ImageProjectiveGeometry\\LXkqM\\src\\projective.jl:937",
      "",
      "Stacktrace:",
      " [1] top-level scope at In[49]:1"
     ]
    }
   ],
   "source": [
    "H = ImageProjectiveGeometry.homography2d(matches)"
   ]
  },
  {
   "cell_type": "code",
   "execution_count": 44,
   "metadata": {},
   "outputs": [
    {
     "name": "stdout",
     "output_type": "stream",
     "text": [
      "search: \u001b[0m\u001b[1mh\u001b[22m\u001b[0m\u001b[1mo\u001b[22m\u001b[0m\u001b[1mm\u001b[22m\u001b[0m\u001b[1mo\u001b[22m\u001b[0m\u001b[1mg\u001b[22m\u001b[0m\u001b[1mr\u001b[22m\u001b[0m\u001b[1ma\u001b[22m\u001b[0m\u001b[1mp\u001b[22m\u001b[0m\u001b[1mh\u001b[22m\u001b[0m\u001b[1my\u001b[22m\u001b[0m\u001b[1m2\u001b[22m\u001b[0m\u001b[1md\u001b[22m \u001b[0m\u001b[1mh\u001b[22m\u001b[0m\u001b[1mo\u001b[22m\u001b[0m\u001b[1mm\u001b[22m\u001b[0m\u001b[1mo\u001b[22m\u001b[0m\u001b[1mg\u001b[22m\u001b[0m\u001b[1mr\u001b[22m\u001b[0m\u001b[1ma\u001b[22m\u001b[0m\u001b[1mp\u001b[22m\u001b[0m\u001b[1mh\u001b[22m\u001b[0m\u001b[1my\u001b[22m1d ransacfit\u001b[0m\u001b[1mh\u001b[22m\u001b[0m\u001b[1mo\u001b[22m\u001b[0m\u001b[1mm\u001b[22m\u001b[0m\u001b[1mo\u001b[22m\u001b[0m\u001b[1mg\u001b[22m\u001b[0m\u001b[1mr\u001b[22m\u001b[0m\u001b[1ma\u001b[22m\u001b[0m\u001b[1mp\u001b[22m\u001b[0m\u001b[1mh\u001b[22m\u001b[0m\u001b[1my\u001b[22m\n",
      "\n"
     ]
    },
    {
     "data": {
      "text/latex": [
       "homography2d - Computes 2D homography\n",
       "\n",
       "\\begin{verbatim}\n",
       "Usage 1:   H = homography2d(x1, x2)\n",
       "\n",
       "Arguments:\n",
       "         x1  - 3xN set of homogeneous points\n",
       "         x2  - 3xN set of homogeneous points such that x1<->x2\n",
       "\n",
       "\n",
       "Usage 2:    H = homography2d(x)\n",
       "Argument:\n",
       "          x  - If a single argument is supplied it is assumed that it\n",
       "               is in the form x = [x1; x2]  \n",
       "\n",
       "Returns:\n",
       "         H - the 3x3 homography such that x2 = H*x1\n",
       "\\end{verbatim}\n",
       "Usage 2 is intended for use with ransac()\n",
       "\n",
       "This code follows the normalised direct linear transformation  algorithm given by Hartley and Zisserman \"Multiple View Geometry in Computer Vision\" p92.\n",
       "\n"
      ],
      "text/markdown": [
       "homography2d - Computes 2D homography\n",
       "\n",
       "```\n",
       "Usage 1:   H = homography2d(x1, x2)\n",
       "\n",
       "Arguments:\n",
       "         x1  - 3xN set of homogeneous points\n",
       "         x2  - 3xN set of homogeneous points such that x1<->x2\n",
       "\n",
       "\n",
       "Usage 2:    H = homography2d(x)\n",
       "Argument:\n",
       "          x  - If a single argument is supplied it is assumed that it\n",
       "               is in the form x = [x1; x2]  \n",
       "\n",
       "Returns:\n",
       "         H - the 3x3 homography such that x2 = H*x1\n",
       "```\n",
       "\n",
       "Usage 2 is intended for use with ransac()\n",
       "\n",
       "This code follows the normalised direct linear transformation  algorithm given by Hartley and Zisserman \"Multiple View Geometry in Computer Vision\" p92.\n"
      ],
      "text/plain": [
       "  homography2d - Computes 2D homography\n",
       "\n",
       "\u001b[36m  Usage 1:   H = homography2d(x1, x2)\u001b[39m\n",
       "\u001b[36m  \u001b[39m\n",
       "\u001b[36m  Arguments:\u001b[39m\n",
       "\u001b[36m           x1  - 3xN set of homogeneous points\u001b[39m\n",
       "\u001b[36m           x2  - 3xN set of homogeneous points such that x1<->x2\u001b[39m\n",
       "\u001b[36m  \u001b[39m\n",
       "\u001b[36m  \u001b[39m\n",
       "\u001b[36m  Usage 2:    H = homography2d(x)\u001b[39m\n",
       "\u001b[36m  Argument:\u001b[39m\n",
       "\u001b[36m            x  - If a single argument is supplied it is assumed that it\u001b[39m\n",
       "\u001b[36m                 is in the form x = [x1; x2]  \u001b[39m\n",
       "\u001b[36m  \u001b[39m\n",
       "\u001b[36m  Returns:\u001b[39m\n",
       "\u001b[36m           H - the 3x3 homography such that x2 = H*x1\u001b[39m\n",
       "\n",
       "  Usage 2 is intended for use with ransac()\n",
       "\n",
       "  This code follows the normalised direct linear transformation algorithm\n",
       "  given by Hartley and Zisserman \"Multiple View Geometry in Computer Vision\"\n",
       "  p92."
      ]
     },
     "execution_count": 44,
     "metadata": {},
     "output_type": "execute_result"
    }
   ],
   "source": [
    "?homography2d"
   ]
  },
  {
   "cell_type": "code",
   "execution_count": null,
   "metadata": {},
   "outputs": [],
   "source": []
  },
  {
   "cell_type": "code",
   "execution_count": null,
   "metadata": {},
   "outputs": [],
   "source": []
  },
  {
   "cell_type": "code",
   "execution_count": null,
   "metadata": {},
   "outputs": [],
   "source": []
  }
 ],
 "metadata": {
  "kernelspec": {
   "display_name": "Julia 1.0.0",
   "language": "julia",
   "name": "julia-1.0"
  },
  "language_info": {
   "file_extension": ".jl",
   "mimetype": "application/julia",
   "name": "julia",
   "version": "1.0.0"
  }
 },
 "nbformat": 4,
 "nbformat_minor": 2
}
