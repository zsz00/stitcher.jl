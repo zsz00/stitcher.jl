{
 "cells": [
  {
   "cell_type": "code",
   "execution_count": 16,
   "metadata": {},
   "outputs": [
    {
     "ename": "ErrorException",
     "evalue": "No FileIO.applicable_loaders found for JXR",
     "output_type": "error",
     "traceback": [
      "No FileIO.applicable_loaders found for JXR",
      "",
      "Stacktrace:",
      " [1] error(::String) at .\\error.jl:33",
      " [2] applicable_loaders at C:\\Users\\m1\\.julia\\packages\\FileIO\\lt9I0\\src\\loadsave.jl:43 [inlined]",
      " [3] #load#27(::Base.Iterators.Pairs{Union{},Union{},Tuple{},NamedTuple{(),Tuple{}}}, ::Function, ::File{DataFormat{:JXR}}) at C:\\Users\\m1\\.julia\\packages\\FileIO\\lt9I0\\src\\loadsave.jl:176",
      " [4] load(::File{DataFormat{:JXR}}) at C:\\Users\\m1\\.julia\\packages\\FileIO\\lt9I0\\src\\loadsave.jl:172",
      " [5] top-level scope at In[16]:4"
     ]
    }
   ],
   "source": [
    "using FileIO, ImageMagick;\n",
    "\n",
    "filename = \"../test/matter/j0_0.jxr\"\n",
    "f1 = load(File(format\"JXR\", filename))\n"
   ]
  },
  {
   "cell_type": "code",
   "execution_count": 11,
   "metadata": {},
   "outputs": [
    {
     "name": "stdout",
     "output_type": "stream",
     "text": [
      "search:\n",
      "\n",
      "Couldn't find \u001b[36mapplicable_loaders\u001b[39m\n",
      "Perhaps you meant applicable\n"
     ]
    },
    {
     "data": {
      "text/latex": [
       "No documentation found.\n",
       "\n",
       "Binding \\texttt{applicable\\_loaders} does not exist.\n",
       "\n"
      ],
      "text/markdown": [
       "No documentation found.\n",
       "\n",
       "Binding `applicable_loaders` does not exist.\n"
      ],
      "text/plain": [
       "  No documentation found.\n",
       "\n",
       "  Binding \u001b[36mapplicable_loaders\u001b[39m does not exist."
      ]
     },
     "execution_count": 11,
     "metadata": {},
     "output_type": "execute_result"
    }
   ],
   "source": []
  }
 ],
 "metadata": {
  "kernelspec": {
   "display_name": "Julia 1.0.0",
   "language": "julia",
   "name": "julia-1.0"
  },
  "language_info": {
   "file_extension": ".jl",
   "mimetype": "application/julia",
   "name": "julia",
   "version": "1.0.0"
  }
 },
 "nbformat": 4,
 "nbformat_minor": 2
}
